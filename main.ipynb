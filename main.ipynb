{
 "cells": [
  {
   "cell_type": "code",
   "execution_count": 2,
   "metadata": {},
   "outputs": [],
   "source": [
    "import pandas as pd\n",
    "import numpy as np\n",
    "import matplotlib.pyplot as plt\n",
    "import seaborn as sns\n",
    "import scipy.stats as stats\n",
    "import statsmodels.api as sm\n",
    "import statsmodels.formula.api as smf\n",
    "from sklearn.preprocessing import StandardScaler, OneHotEncoder\n",
    "from sklearn.model_selection import train_test_split\n",
    "from sklearn.ensemble import RandomForestRegressor\n",
    "\n",
    "from sklearn.metrics import mean_absolute_error, mean_squared_error, r2_score\n",
    "from scipy.stats import kruskal,chi2_contingency"
   ]
  },
  {
   "cell_type": "code",
   "execution_count": 3,
   "metadata": {},
   "outputs": [
    {
     "name": "stderr",
     "output_type": "stream",
     "text": [
      "<>:1: SyntaxWarning: invalid escape sequence '\\D'\n",
      "<>:1: SyntaxWarning: invalid escape sequence '\\D'\n",
      "C:\\Users\\smrut\\AppData\\Local\\Temp\\ipykernel_19300\\3323032753.py:1: SyntaxWarning: invalid escape sequence '\\D'\n",
      "  marketing_campaign_df= pd.read_csv(\"D:\\DeepLearning\\Fast_food\\WA_Marketing-Campaign.csv\", sep=\",\", index_col=0)\n"
     ]
    },
    {
     "data": {
      "text/html": [
       "<div>\n",
       "<style scoped>\n",
       "    .dataframe tbody tr th:only-of-type {\n",
       "        vertical-align: middle;\n",
       "    }\n",
       "\n",
       "    .dataframe tbody tr th {\n",
       "        vertical-align: top;\n",
       "    }\n",
       "\n",
       "    .dataframe thead th {\n",
       "        text-align: right;\n",
       "    }\n",
       "</style>\n",
       "<table border=\"1\" class=\"dataframe\">\n",
       "  <thead>\n",
       "    <tr style=\"text-align: right;\">\n",
       "      <th></th>\n",
       "      <th>MarketSize</th>\n",
       "      <th>LocationID</th>\n",
       "      <th>AgeOfStore</th>\n",
       "      <th>Promotion</th>\n",
       "      <th>week</th>\n",
       "      <th>SalesInThousands</th>\n",
       "    </tr>\n",
       "    <tr>\n",
       "      <th>MarketID</th>\n",
       "      <th></th>\n",
       "      <th></th>\n",
       "      <th></th>\n",
       "      <th></th>\n",
       "      <th></th>\n",
       "      <th></th>\n",
       "    </tr>\n",
       "  </thead>\n",
       "  <tbody>\n",
       "    <tr>\n",
       "      <th>1</th>\n",
       "      <td>Medium</td>\n",
       "      <td>1</td>\n",
       "      <td>4</td>\n",
       "      <td>3</td>\n",
       "      <td>1</td>\n",
       "      <td>33.73</td>\n",
       "    </tr>\n",
       "    <tr>\n",
       "      <th>1</th>\n",
       "      <td>Medium</td>\n",
       "      <td>1</td>\n",
       "      <td>4</td>\n",
       "      <td>3</td>\n",
       "      <td>2</td>\n",
       "      <td>35.67</td>\n",
       "    </tr>\n",
       "    <tr>\n",
       "      <th>1</th>\n",
       "      <td>Medium</td>\n",
       "      <td>1</td>\n",
       "      <td>4</td>\n",
       "      <td>3</td>\n",
       "      <td>3</td>\n",
       "      <td>29.03</td>\n",
       "    </tr>\n",
       "    <tr>\n",
       "      <th>1</th>\n",
       "      <td>Medium</td>\n",
       "      <td>1</td>\n",
       "      <td>4</td>\n",
       "      <td>3</td>\n",
       "      <td>4</td>\n",
       "      <td>39.25</td>\n",
       "    </tr>\n",
       "    <tr>\n",
       "      <th>1</th>\n",
       "      <td>Medium</td>\n",
       "      <td>2</td>\n",
       "      <td>5</td>\n",
       "      <td>2</td>\n",
       "      <td>1</td>\n",
       "      <td>27.81</td>\n",
       "    </tr>\n",
       "  </tbody>\n",
       "</table>\n",
       "</div>"
      ],
      "text/plain": [
       "         MarketSize  LocationID  AgeOfStore  Promotion  week  SalesInThousands\n",
       "MarketID                                                                      \n",
       "1            Medium           1           4          3     1             33.73\n",
       "1            Medium           1           4          3     2             35.67\n",
       "1            Medium           1           4          3     3             29.03\n",
       "1            Medium           1           4          3     4             39.25\n",
       "1            Medium           2           5          2     1             27.81"
      ]
     },
     "execution_count": 3,
     "metadata": {},
     "output_type": "execute_result"
    }
   ],
   "source": [
    "marketing_campaign_df= pd.read_csv(\"D:\\DeepLearning\\Fast_food\\WA_Marketing-Campaign.csv\", sep=\",\", index_col=0)\n",
    "marketing_campaign_df.head()"
   ]
  },
  {
   "cell_type": "code",
   "execution_count": null,
   "metadata": {},
   "outputs": [
    {
     "name": "stdout",
     "output_type": "stream",
     "text": [
      "Dataset Info:\n",
      "<class 'pandas.core.frame.DataFrame'>\n",
      "Index: 548 entries, 1 to 10\n",
      "Data columns (total 6 columns):\n",
      " #   Column            Non-Null Count  Dtype  \n",
      "---  ------            --------------  -----  \n",
      " 0   MarketSize        548 non-null    object \n",
      " 1   LocationID        548 non-null    int64  \n",
      " 2   AgeOfStore        548 non-null    int64  \n",
      " 3   Promotion         548 non-null    int64  \n",
      " 4   week              548 non-null    int64  \n",
      " 5   SalesInThousands  548 non-null    float64\n",
      "dtypes: float64(1), int64(4), object(1)\n",
      "memory usage: 30.0+ KB\n",
      "None\n"
     ]
    }
   ],
   "source": [
    "print(\"Dataset Info:\")\n",
    "print(marketing_campaign_df.info())"
   ]
  },
  {
   "cell_type": "code",
   "execution_count": 4,
   "metadata": {},
   "outputs": [
    {
     "name": "stdout",
     "output_type": "stream",
     "text": [
      "\n",
      "Missing Values:\n",
      "MarketSize          0\n",
      "LocationID          0\n",
      "AgeOfStore          0\n",
      "Promotion           0\n",
      "week                0\n",
      "SalesInThousands    0\n",
      "dtype: int64\n",
      "\n",
      "Unique Market Sizes:\n",
      "MarketSize\n",
      "Medium    320\n",
      "Large     168\n",
      "Small      60\n",
      "Name: count, dtype: int64\n",
      "\n",
      "Promotion Distribution:\n",
      "Promotion\n",
      "3    188\n",
      "2    188\n",
      "1    172\n",
      "Name: count, dtype: int64\n"
     ]
    }
   ],
   "source": [
    "# Check for missing values\n",
    "print(\"\\nMissing Values:\")\n",
    "print(marketing_campaign_df.isnull().sum())\n",
    "\n",
    "# Count unique values for categorical variables\n",
    "print(\"\\nUnique Market Sizes:\")\n",
    "print(marketing_campaign_df[\"MarketSize\"].value_counts())\n",
    "\n",
    "print(\"\\nPromotion Distribution:\")\n",
    "print(marketing_campaign_df[\"Promotion\"].value_counts())"
   ]
  },
  {
   "cell_type": "code",
   "execution_count": 4,
   "metadata": {},
   "outputs": [],
   "source": [
    "marketing_campaign_df[\"Promotion\"] = marketing_campaign_df[\"Promotion\"].astype(str)"
   ]
  },
  {
   "cell_type": "code",
   "execution_count": 5,
   "metadata": {},
   "outputs": [],
   "source": [
    "# Identify and fix inconsistent column names\n",
    "marketing_campaign_df.columns = marketing_campaign_df.columns.str.strip().str.replace(\" \", \"_\").str.lower()"
   ]
  },
  {
   "cell_type": "code",
   "execution_count": 6,
   "metadata": {},
   "outputs": [
    {
     "data": {
      "text/html": [
       "<div>\n",
       "<style scoped>\n",
       "    .dataframe tbody tr th:only-of-type {\n",
       "        vertical-align: middle;\n",
       "    }\n",
       "\n",
       "    .dataframe tbody tr th {\n",
       "        vertical-align: top;\n",
       "    }\n",
       "\n",
       "    .dataframe thead th {\n",
       "        text-align: right;\n",
       "    }\n",
       "</style>\n",
       "<table border=\"1\" class=\"dataframe\">\n",
       "  <thead>\n",
       "    <tr style=\"text-align: right;\">\n",
       "      <th></th>\n",
       "      <th>marketsize</th>\n",
       "      <th>locationid</th>\n",
       "      <th>ageofstore</th>\n",
       "      <th>promotion</th>\n",
       "      <th>week</th>\n",
       "      <th>salesinthousands</th>\n",
       "    </tr>\n",
       "    <tr>\n",
       "      <th>MarketID</th>\n",
       "      <th></th>\n",
       "      <th></th>\n",
       "      <th></th>\n",
       "      <th></th>\n",
       "      <th></th>\n",
       "      <th></th>\n",
       "    </tr>\n",
       "  </thead>\n",
       "  <tbody>\n",
       "    <tr>\n",
       "      <th>1</th>\n",
       "      <td>Medium</td>\n",
       "      <td>1</td>\n",
       "      <td>4</td>\n",
       "      <td>3</td>\n",
       "      <td>1</td>\n",
       "      <td>33.73</td>\n",
       "    </tr>\n",
       "    <tr>\n",
       "      <th>1</th>\n",
       "      <td>Medium</td>\n",
       "      <td>1</td>\n",
       "      <td>4</td>\n",
       "      <td>3</td>\n",
       "      <td>2</td>\n",
       "      <td>35.67</td>\n",
       "    </tr>\n",
       "    <tr>\n",
       "      <th>1</th>\n",
       "      <td>Medium</td>\n",
       "      <td>1</td>\n",
       "      <td>4</td>\n",
       "      <td>3</td>\n",
       "      <td>3</td>\n",
       "      <td>29.03</td>\n",
       "    </tr>\n",
       "    <tr>\n",
       "      <th>1</th>\n",
       "      <td>Medium</td>\n",
       "      <td>1</td>\n",
       "      <td>4</td>\n",
       "      <td>3</td>\n",
       "      <td>4</td>\n",
       "      <td>39.25</td>\n",
       "    </tr>\n",
       "    <tr>\n",
       "      <th>1</th>\n",
       "      <td>Medium</td>\n",
       "      <td>2</td>\n",
       "      <td>5</td>\n",
       "      <td>2</td>\n",
       "      <td>1</td>\n",
       "      <td>27.81</td>\n",
       "    </tr>\n",
       "    <tr>\n",
       "      <th>...</th>\n",
       "      <td>...</td>\n",
       "      <td>...</td>\n",
       "      <td>...</td>\n",
       "      <td>...</td>\n",
       "      <td>...</td>\n",
       "      <td>...</td>\n",
       "    </tr>\n",
       "    <tr>\n",
       "      <th>10</th>\n",
       "      <td>Large</td>\n",
       "      <td>919</td>\n",
       "      <td>2</td>\n",
       "      <td>1</td>\n",
       "      <td>4</td>\n",
       "      <td>64.34</td>\n",
       "    </tr>\n",
       "    <tr>\n",
       "      <th>10</th>\n",
       "      <td>Large</td>\n",
       "      <td>920</td>\n",
       "      <td>14</td>\n",
       "      <td>2</td>\n",
       "      <td>1</td>\n",
       "      <td>50.20</td>\n",
       "    </tr>\n",
       "    <tr>\n",
       "      <th>10</th>\n",
       "      <td>Large</td>\n",
       "      <td>920</td>\n",
       "      <td>14</td>\n",
       "      <td>2</td>\n",
       "      <td>2</td>\n",
       "      <td>45.75</td>\n",
       "    </tr>\n",
       "    <tr>\n",
       "      <th>10</th>\n",
       "      <td>Large</td>\n",
       "      <td>920</td>\n",
       "      <td>14</td>\n",
       "      <td>2</td>\n",
       "      <td>3</td>\n",
       "      <td>44.29</td>\n",
       "    </tr>\n",
       "    <tr>\n",
       "      <th>10</th>\n",
       "      <td>Large</td>\n",
       "      <td>920</td>\n",
       "      <td>14</td>\n",
       "      <td>2</td>\n",
       "      <td>4</td>\n",
       "      <td>49.41</td>\n",
       "    </tr>\n",
       "  </tbody>\n",
       "</table>\n",
       "<p>548 rows × 6 columns</p>\n",
       "</div>"
      ],
      "text/plain": [
       "         marketsize  locationid  ageofstore promotion  week  salesinthousands\n",
       "MarketID                                                                     \n",
       "1            Medium           1           4         3     1             33.73\n",
       "1            Medium           1           4         3     2             35.67\n",
       "1            Medium           1           4         3     3             29.03\n",
       "1            Medium           1           4         3     4             39.25\n",
       "1            Medium           2           5         2     1             27.81\n",
       "...             ...         ...         ...       ...   ...               ...\n",
       "10            Large         919           2         1     4             64.34\n",
       "10            Large         920          14         2     1             50.20\n",
       "10            Large         920          14         2     2             45.75\n",
       "10            Large         920          14         2     3             44.29\n",
       "10            Large         920          14         2     4             49.41\n",
       "\n",
       "[548 rows x 6 columns]"
      ]
     },
     "execution_count": 6,
     "metadata": {},
     "output_type": "execute_result"
    }
   ],
   "source": [
    "marketing_campaign_df"
   ]
  },
  {
   "cell_type": "code",
   "execution_count": 7,
   "metadata": {},
   "outputs": [],
   "source": [
    "# Standardize categorical data\n",
    "categorical_columns = [\"marketsize\", \"promotion\"]\n",
    "for col in categorical_columns:\n",
    "    marketing_campaign_df[col] = marketing_campaign_df[col].str.strip().str.lower()"
   ]
  },
  {
   "cell_type": "code",
   "execution_count": 8,
   "metadata": {},
   "outputs": [
    {
     "name": "stdout",
     "output_type": "stream",
     "text": [
      "Unique values in marketsize: ['medium' 'small' 'large']\n",
      "Unique values in promotion: ['3' '2' '1']\n"
     ]
    }
   ],
   "source": [
    "# Display unique values to check consistency\n",
    "for col in categorical_columns:\n",
    "    print(f\"Unique values in {col}: {marketing_campaign_df[col].unique()}\")"
   ]
  },
  {
   "cell_type": "code",
   "execution_count": 9,
   "metadata": {},
   "outputs": [
    {
     "name": "stdout",
     "output_type": "stream",
     "text": [
      "Median Weekly Sales by Promotion:\n",
      "   promotion  salesinthousands\n",
      "0         1            55.385\n",
      "1         2            45.385\n",
      "2         3            51.165\n"
     ]
    }
   ],
   "source": [
    "# Calculate median weekly sales per promotion\n",
    "df_median_sales = marketing_campaign_df.groupby(\"promotion\")[\"salesinthousands\"].median().reset_index()\n",
    "print(\"Median Weekly Sales by Promotion:\\n\", df_median_sales)"
   ]
  },
  {
   "cell_type": "code",
   "execution_count": 10,
   "metadata": {},
   "outputs": [
    {
     "name": "stdout",
     "output_type": "stream",
     "text": [
      "Total entries: 548.\n",
      "General count and proportions of total for each promotion:\n"
     ]
    },
    {
     "data": {
      "text/html": [
       "<div>\n",
       "<style scoped>\n",
       "    .dataframe tbody tr th:only-of-type {\n",
       "        vertical-align: middle;\n",
       "    }\n",
       "\n",
       "    .dataframe tbody tr th {\n",
       "        vertical-align: top;\n",
       "    }\n",
       "\n",
       "    .dataframe thead th {\n",
       "        text-align: right;\n",
       "    }\n",
       "</style>\n",
       "<table border=\"1\" class=\"dataframe\">\n",
       "  <thead>\n",
       "    <tr style=\"text-align: right;\">\n",
       "      <th></th>\n",
       "      <th>promotion</th>\n",
       "      <th>counts</th>\n",
       "      <th>proportions</th>\n",
       "    </tr>\n",
       "  </thead>\n",
       "  <tbody>\n",
       "    <tr>\n",
       "      <th>0</th>\n",
       "      <td>3</td>\n",
       "      <td>188</td>\n",
       "      <td>0.343066</td>\n",
       "    </tr>\n",
       "    <tr>\n",
       "      <th>1</th>\n",
       "      <td>2</td>\n",
       "      <td>188</td>\n",
       "      <td>0.343066</td>\n",
       "    </tr>\n",
       "    <tr>\n",
       "      <th>2</th>\n",
       "      <td>1</td>\n",
       "      <td>172</td>\n",
       "      <td>0.313869</td>\n",
       "    </tr>\n",
       "  </tbody>\n",
       "</table>\n",
       "</div>"
      ],
      "text/plain": [
       "  promotion  counts  proportions\n",
       "0         3     188     0.343066\n",
       "1         2     188     0.343066\n",
       "2         1     172     0.313869"
      ]
     },
     "execution_count": 10,
     "metadata": {},
     "output_type": "execute_result"
    }
   ],
   "source": [
    "promotion_counts = marketing_campaign_df[\"promotion\"].value_counts()\n",
    "total_entries = len(marketing_campaign_df)\n",
    "promotion_stats = pd.DataFrame(\n",
    "    {\n",
    "        \"promotion\": promotion_counts.index,\n",
    "        \"counts\": promotion_counts.values,\n",
    "        \"proportions\": promotion_counts.values / total_entries,\n",
    "    }\n",
    ")\n",
    "print(f\"Total entries: {total_entries}.\")\n",
    "print(\"General count and proportions of total for each promotion:\")\n",
    "promotion_stats"
   ]
  },
  {
   "cell_type": "code",
   "execution_count": 11,
   "metadata": {},
   "outputs": [
    {
     "name": "stdout",
     "output_type": "stream",
     "text": [
      "Counts for market size per promotion:\n"
     ]
    },
    {
     "data": {
      "text/html": [
       "<div>\n",
       "<style scoped>\n",
       "    .dataframe tbody tr th:only-of-type {\n",
       "        vertical-align: middle;\n",
       "    }\n",
       "\n",
       "    .dataframe tbody tr th {\n",
       "        vertical-align: top;\n",
       "    }\n",
       "\n",
       "    .dataframe thead th {\n",
       "        text-align: right;\n",
       "    }\n",
       "</style>\n",
       "<table border=\"1\" class=\"dataframe\">\n",
       "  <thead>\n",
       "    <tr style=\"text-align: right;\">\n",
       "      <th>marketsize</th>\n",
       "      <th>large</th>\n",
       "      <th>medium</th>\n",
       "      <th>small</th>\n",
       "    </tr>\n",
       "    <tr>\n",
       "      <th>promotion</th>\n",
       "      <th></th>\n",
       "      <th></th>\n",
       "      <th></th>\n",
       "    </tr>\n",
       "  </thead>\n",
       "  <tbody>\n",
       "    <tr>\n",
       "      <th>1</th>\n",
       "      <td>56</td>\n",
       "      <td>96</td>\n",
       "      <td>20</td>\n",
       "    </tr>\n",
       "    <tr>\n",
       "      <th>2</th>\n",
       "      <td>64</td>\n",
       "      <td>108</td>\n",
       "      <td>16</td>\n",
       "    </tr>\n",
       "    <tr>\n",
       "      <th>3</th>\n",
       "      <td>48</td>\n",
       "      <td>116</td>\n",
       "      <td>24</td>\n",
       "    </tr>\n",
       "  </tbody>\n",
       "</table>\n",
       "</div>"
      ],
      "text/plain": [
       "marketsize  large  medium  small\n",
       "promotion                       \n",
       "1              56      96     20\n",
       "2              64     108     16\n",
       "3              48     116     24"
      ]
     },
     "execution_count": 11,
     "metadata": {},
     "output_type": "execute_result"
    }
   ],
   "source": [
    "market_size_counts = pd.crosstab(\n",
    "    marketing_campaign_df[\"promotion\"], marketing_campaign_df[\"marketsize\"]\n",
    ")\n",
    "print(\"Counts for market size per promotion:\")\n",
    "market_size_counts"
   ]
  },
  {
   "cell_type": "code",
   "execution_count": null,
   "metadata": {},
   "outputs": [
    {
     "name": "stdout",
     "output_type": "stream",
     "text": [
      "\n",
      "Chi-Square Test of Homogeneity for Market Size across Promotions:\n",
      "Chi-Square Statistic: 4.753891284371245, p-value: 0.3134943324468101\n",
      "No significant difference in market size distribution across promotions.\n"
     ]
    }
   ],
   "source": [
    "# Chi-Square Test of Homogeneity for Market Size across Promotions\n",
    "contingency_table = pd.crosstab(marketing_campaign_df[\"marketsize\"], marketing_campaign_df[\"promotion\"])\n",
    "chi2_stat, p_value, _, _ = chi2_contingency(contingency_table)\n",
    "print(\"\\nChi-Square Test of Homogeneity for Market Size across Promotions:\")\n",
    "print(f\"Chi-Square Statistic: {chi2_stat}, p-value: {p_value}\")\n",
    "if p_value < 0.05:\n",
    "    print(\"Significant difference in market size distribution across promotions.\")\n",
    "else:\n",
    "    print(\"No significant difference in market size distribution across promotions.\")\n"
   ]
  },
  {
   "cell_type": "markdown",
   "metadata": {},
   "source": [
    "Number of Locations and Weekly Entries for Each Promotion"
   ]
  },
  {
   "cell_type": "code",
   "execution_count": 16,
   "metadata": {},
   "outputs": [
    {
     "name": "stdout",
     "output_type": "stream",
     "text": [
      "  promotion  Unique_Locations  Weekly_Entries\n",
      "0         1                43             172\n",
      "1         2                47             188\n",
      "2         3                47             188\n"
     ]
    }
   ],
   "source": [
    "# Count unique locations per promotion\n",
    "location_count = marketing_campaign_df.groupby(\"promotion\")[\"locationid\"].nunique().reset_index()\n",
    "location_count.columns = [\"promotion\", \"Unique_Locations\"]\n",
    "\n",
    "# Count weekly entries per promotion\n",
    "weekly_entries = marketing_campaign_df.groupby(\"promotion\")[\"week\"].count().reset_index()\n",
    "weekly_entries.columns = [\"promotion\", \"Weekly_Entries\"]\n",
    "\n",
    "# Merge both results\n",
    "result = pd.merge(location_count, weekly_entries, on=\"promotion\")\n",
    "\n",
    "# Display result\n",
    "print(result)\n"
   ]
  },
  {
   "cell_type": "markdown",
   "metadata": {},
   "source": [
    "# Kruskal-Wallis Test (Non-parametric ANOVA alternative)"
   ]
  },
  {
   "cell_type": "code",
   "execution_count": 37,
   "metadata": {},
   "outputs": [],
   "source": [
    "\n",
    "stats_result = kruskal(\n",
    "    marketing_campaign_df[marketing_campaign_df[\"promotion\"] == '1'][\"salesinthousands\"],\n",
    "    marketing_campaign_df[marketing_campaign_df[\"promotion\"] == '2'][\"salesinthousands\"],\n",
    "    marketing_campaign_df[marketing_campaign_df[\"promotion\"] == '3'][\"salesinthousands\"]\n",
    ")"
   ]
  },
  {
   "cell_type": "code",
   "execution_count": 38,
   "metadata": {},
   "outputs": [
    {
     "name": "stdout",
     "output_type": "stream",
     "text": [
      "\n",
      "Kruskal-Wallis Test p-value: 2.6741866266697816e-12\n"
     ]
    }
   ],
   "source": [
    "print(f\"\\nKruskal-Wallis Test p-value: {stats_result.pvalue}\")\n"
   ]
  },
  {
   "cell_type": "markdown",
   "metadata": {},
   "source": [
    "Sales Distribution\n"
   ]
  },
  {
   "cell_type": "code",
   "execution_count": null,
   "metadata": {},
   "outputs": [
    {
     "name": "stderr",
     "output_type": "stream",
     "text": [
      "C:\\Users\\smrut\\AppData\\Local\\Temp\\ipykernel_21348\\2002531542.py:3: FutureWarning: \n",
      "\n",
      "Passing `palette` without assigning `hue` is deprecated and will be removed in v0.14.0. Assign the `x` variable to `hue` and set `legend=False` for the same effect.\n",
      "\n",
      "  sns.barplot(x=\"promotion\", y=\"salesinthousands\", data=marketing_campaign_df, estimator=np.median, palette=\"Set2\")\n"
     ]
    },
    {
     "data": {
      "image/png": "[encoded data removed]",
      "text/plain": [
       "<Figure size 800x500 with 1 Axes>"
      ]
     },
     "metadata": {},
     "output_type": "display_data"
    }
   ],
   "source": [
    "# Visualization - Median Sales by Promotion\n",
    "plt.figure(figsize=(8, 5))\n",
    "sns.barplot(x=\"promotion\",y=\"salesinthousands\",data=marketing_campaign_df, estimator=np.median, palette=\"Set2\")\n",
    "plt.title(\"Median Weekly Sales by Promotion\")\n",
    "plt.xlabel(\"Promotion Type\")\n",
    "plt.ylabel(\"Median Sales (Thousands)\")\n",
    "plt.show()"
   ]
  },
  {
   "cell_type": "code",
   "execution_count": 40,
   "metadata": {},
   "outputs": [
    {
     "data": {
      "image/png": "[encoded data removed]",
      "text/plain": [
       "<Figure size 1000x600 with 1 Axes>"
      ]
     },
     "metadata": {},
     "output_type": "display_data"
    }
   ],
   "source": [
    "# Subgroup Analysis - Median Sales by Market Size and Promotion\n",
    "plt.figure(figsize=(10, 6))\n",
    "sns.boxplot(x=\"marketsize\", y=\"salesinthousands\", hue=\"promotion\", data=marketing_campaign_df, palette=\"Set3\")\n",
    "plt.title(\"Sales Distribution by Market Size and Promotion\")\n",
    "plt.xlabel(\"Market Size\")\n",
    "plt.ylabel(\"Sales in Thousands\")\n",
    "plt.legend(title=\"Promotion\")\n",
    "plt.show()"
   ]
  },
  {
   "cell_type": "code",
   "execution_count": 41,
   "metadata": {},
   "outputs": [
    {
     "data": {
      "image/png": "[encoded data removed]",
      "text/plain": [
       "<Figure size 1000x600 with 1 Axes>"
      ]
     },
     "metadata": {},
     "output_type": "display_data"
    }
   ],
   "source": [
    "# Subgroup Analysis - Median Sales by Age of Store and Promotion\n",
    "plt.figure(figsize=(10, 6))\n",
    "sns.boxplot(x=pd.cut(marketing_campaign_df[\"ageofstore\"], bins=4), y=\"salesinthousands\", hue=\"promotion\", data=marketing_campaign_df, palette=\"coolwarm\")\n",
    "plt.title(\"Sales Distribution by Store Age and Promotion\")\n",
    "plt.xlabel(\"Store Age Group\")\n",
    "plt.ylabel(\"Sales in Thousands\")\n",
    "plt.legend(title=\"Promotion\")\n",
    "plt.show()\n"
   ]
  },
  {
   "cell_type": "code",
   "execution_count": 42,
   "metadata": {},
   "outputs": [
    {
     "name": "stdout",
     "output_type": "stream",
     "text": [
      "\n",
      "Number of Outliers Detected in Sales Column: 33\n"
     ]
    }
   ],
   "source": [
    "# Detect outliers in sales column using IQR\n",
    "Q1 = marketing_campaign_df[\"salesinthousands\"].quantile(0.25)\n",
    "Q3 = marketing_campaign_df[\"salesinthousands\"].quantile(0.75)\n",
    "IQR = Q3 - Q1\n",
    "outlier_condition = (marketing_campaign_df[\"salesinthousands\"] < (Q1 - 1.5 * IQR)) | (marketing_campaign_df[\"salesinthousands\"] > (Q3 + 1.5 * IQR))\n",
    "outliers = marketing_campaign_df[outlier_condition]\n",
    "print(\"\\nNumber of Outliers Detected in Sales Column:\", len(outliers))"
   ]
  },
  {
   "cell_type": "code",
   "execution_count": null,
   "metadata": {},
   "outputs": [
    {
     "name": "stderr",
     "output_type": "stream",
     "text": [
      "C:\\Users\\smrut\\AppData\\Local\\Temp\\ipykernel_21348\\4235002140.py:3: FutureWarning: \n",
      "\n",
      "Passing `palette` without assigning `hue` is deprecated and will be removed in v0.14.0. Assign the `x` variable to `hue` and set `legend=False` for the same effect.\n",
      "\n",
      "  sns.boxplot(x=\"promotion\", y=\"salesinthousands\", data=marketing_campaign_df, palette=\"Set2\")\n"
     ]
    },
    {
     "data": {
      "image/png": "[encoded data removed]",
      "text/plain": [
       "<Figure size 1000x500 with 1 Axes>"
      ]
     },
     "metadata": {},
     "output_type": "display_data"
    }
   ],
   "source": [
    "# Sales distribution per promotion type\n",
    "plt.figure(figsize=(10, 5))\n",
    "sns.boxplot(x=\"promotion\", y=\"salesinthousands\", data=marketing_campaign_df, palette=\"Set2\")\n",
    "plt.title(\"Sales Distribution by Promotion Type\")\n",
    "plt.xlabel(\"Promotion Type\")\n",
    "plt.ylabel(\"Sales in Thousands\")\n",
    "plt.show()"
   ]
  },
  {
   "cell_type": "markdown",
   "metadata": {},
   "source": [
    "Descriptive Statistics"
   ]
  },
  {
   "cell_type": "code",
   "execution_count": 44,
   "metadata": {},
   "outputs": [
    {
     "name": "stdout",
     "output_type": "stream",
     "text": [
      "       locationid  ageofstore        week  salesinthousands\n",
      "count  548.000000  548.000000  548.000000        548.000000\n",
      "mean   479.656934    8.503650    2.500000         53.466204\n",
      "std    287.973679    6.638345    1.119055         16.755216\n",
      "min      1.000000    1.000000    1.000000         17.340000\n",
      "25%    216.000000    4.000000    1.750000         42.545000\n",
      "50%    504.000000    7.000000    2.500000         50.200000\n",
      "75%    708.000000   12.000000    3.250000         60.477500\n",
      "max    920.000000   28.000000    4.000000         99.650000\n",
      "\n",
      "Market Size Distribution:\n",
      "marketsize\n",
      "medium    320\n",
      "large     168\n",
      "small      60\n",
      "Name: count, dtype: int64\n",
      "promotion\n",
      "3    188\n",
      "2    188\n",
      "1    172\n",
      "Name: count, dtype: int64\n"
     ]
    }
   ],
   "source": [
    "# Summary statistics of numerical columns\n",
    "print(marketing_campaign_df.describe())\n",
    "\n",
    "# Count unique values in categorical columns\n",
    "print(\"\\nMarket Size Distribution:\")\n",
    "print(marketing_campaign_df['marketsize'].value_counts())\n",
    "print(marketing_campaign_df['promotion'].value_counts())\n"
   ]
  },
  {
   "cell_type": "markdown",
   "metadata": {},
   "source": [
    "Hypothesis Testing (ANOVA)"
   ]
  },
  {
   "cell_type": "code",
   "execution_count": 45,
   "metadata": {},
   "outputs": [
    {
     "name": "stdout",
     "output_type": "stream",
     "text": [
      "ANOVA test results: F-statistic=21.953485793080677, p-value=6.765849261408714e-10\n"
     ]
    }
   ],
   "source": [
    "import scipy.stats as stats\n",
    "\n",
    "# Grouping sales by promotion type\n",
    "sales_groups = [marketing_campaign_df[marketing_campaign_df[\"promotion\"] == p][\"salesinthousands\"] \n",
    "                for p in marketing_campaign_df[\"promotion\"].unique()]\n",
    "\n",
    "# Perform ANOVA test\n",
    "anova_result = stats.f_oneway(*sales_groups)\n",
    "\n",
    "print(f\"ANOVA test results: F-statistic={anova_result.statistic}, p-value={anova_result.pvalue}\")\n"
   ]
  },
  {
   "cell_type": "markdown",
   "metadata": {},
   "source": [
    "Correlation Analysis"
   ]
  },
  {
   "cell_type": "code",
   "execution_count": 46,
   "metadata": {},
   "outputs": [
    {
     "data": {
      "image/png": "[encoded data removed]",
      "text/plain": [
       "<Figure size 800x600 with 2 Axes>"
      ]
     },
     "metadata": {},
     "output_type": "display_data"
    }
   ],
   "source": [
    "from sklearn.preprocessing import LabelEncoder\n",
    "\n",
    "# Make a copy of the dataset to avoid modifying the original\n",
    "temp_df = marketing_campaign_df.copy()\n",
    "\n",
    "# Encode 'MarketSize' temporarily using Label Encoding\n",
    "le = LabelEncoder()\n",
    "temp_df[\"MarketSize_Encoded\"] = le.fit_transform(temp_df[\"marketsize\"])\n",
    "\n",
    "# Select only numeric columns (including the encoded 'MarketSize')\n",
    "numeric_df = temp_df.select_dtypes(include=[\"number\"])\n",
    "\n",
    "# Compute correlation matrix\n",
    "corr_matrix = numeric_df.corr()\n",
    "\n",
    "# Heatmap visualization\n",
    "plt.figure(figsize=(8, 6))\n",
    "sns.heatmap(corr_matrix, annot=True, cmap=\"coolwarm\", fmt=\".2f\")\n",
    "plt.title(\"Correlation Matrix Including Market Size\")\n",
    "plt.show()"
   ]
  },
  {
   "cell_type": "code",
   "execution_count": 47,
   "metadata": {},
   "outputs": [
    {
     "data": {
      "text/html": [
       "<div>\n",
       "<style scoped>\n",
       "    .dataframe tbody tr th:only-of-type {\n",
       "        vertical-align: middle;\n",
       "    }\n",
       "\n",
       "    .dataframe tbody tr th {\n",
       "        vertical-align: top;\n",
       "    }\n",
       "\n",
       "    .dataframe thead th {\n",
       "        text-align: right;\n",
       "    }\n",
       "</style>\n",
       "<table border=\"1\" class=\"dataframe\">\n",
       "  <thead>\n",
       "    <tr style=\"text-align: right;\">\n",
       "      <th></th>\n",
       "      <th>locationid</th>\n",
       "      <th>ageofstore</th>\n",
       "      <th>promotion</th>\n",
       "      <th>week</th>\n",
       "      <th>salesinthousands</th>\n",
       "      <th>marketsize_large</th>\n",
       "      <th>marketsize_medium</th>\n",
       "      <th>marketsize_small</th>\n",
       "    </tr>\n",
       "    <tr>\n",
       "      <th>MarketID</th>\n",
       "      <th></th>\n",
       "      <th></th>\n",
       "      <th></th>\n",
       "      <th></th>\n",
       "      <th></th>\n",
       "      <th></th>\n",
       "      <th></th>\n",
       "      <th></th>\n",
       "    </tr>\n",
       "  </thead>\n",
       "  <tbody>\n",
       "    <tr>\n",
       "      <th>1</th>\n",
       "      <td>1</td>\n",
       "      <td>4</td>\n",
       "      <td>3</td>\n",
       "      <td>1</td>\n",
       "      <td>33.73</td>\n",
       "      <td>False</td>\n",
       "      <td>True</td>\n",
       "      <td>False</td>\n",
       "    </tr>\n",
       "    <tr>\n",
       "      <th>1</th>\n",
       "      <td>1</td>\n",
       "      <td>4</td>\n",
       "      <td>3</td>\n",
       "      <td>2</td>\n",
       "      <td>35.67</td>\n",
       "      <td>False</td>\n",
       "      <td>True</td>\n",
       "      <td>False</td>\n",
       "    </tr>\n",
       "    <tr>\n",
       "      <th>1</th>\n",
       "      <td>1</td>\n",
       "      <td>4</td>\n",
       "      <td>3</td>\n",
       "      <td>3</td>\n",
       "      <td>29.03</td>\n",
       "      <td>False</td>\n",
       "      <td>True</td>\n",
       "      <td>False</td>\n",
       "    </tr>\n",
       "    <tr>\n",
       "      <th>1</th>\n",
       "      <td>1</td>\n",
       "      <td>4</td>\n",
       "      <td>3</td>\n",
       "      <td>4</td>\n",
       "      <td>39.25</td>\n",
       "      <td>False</td>\n",
       "      <td>True</td>\n",
       "      <td>False</td>\n",
       "    </tr>\n",
       "    <tr>\n",
       "      <th>1</th>\n",
       "      <td>2</td>\n",
       "      <td>5</td>\n",
       "      <td>2</td>\n",
       "      <td>1</td>\n",
       "      <td>27.81</td>\n",
       "      <td>False</td>\n",
       "      <td>True</td>\n",
       "      <td>False</td>\n",
       "    </tr>\n",
       "    <tr>\n",
       "      <th>...</th>\n",
       "      <td>...</td>\n",
       "      <td>...</td>\n",
       "      <td>...</td>\n",
       "      <td>...</td>\n",
       "      <td>...</td>\n",
       "      <td>...</td>\n",
       "      <td>...</td>\n",
       "      <td>...</td>\n",
       "    </tr>\n",
       "    <tr>\n",
       "      <th>10</th>\n",
       "      <td>919</td>\n",
       "      <td>2</td>\n",
       "      <td>1</td>\n",
       "      <td>4</td>\n",
       "      <td>64.34</td>\n",
       "      <td>True</td>\n",
       "      <td>False</td>\n",
       "      <td>False</td>\n",
       "    </tr>\n",
       "    <tr>\n",
       "      <th>10</th>\n",
       "      <td>920</td>\n",
       "      <td>14</td>\n",
       "      <td>2</td>\n",
       "      <td>1</td>\n",
       "      <td>50.20</td>\n",
       "      <td>True</td>\n",
       "      <td>False</td>\n",
       "      <td>False</td>\n",
       "    </tr>\n",
       "    <tr>\n",
       "      <th>10</th>\n",
       "      <td>920</td>\n",
       "      <td>14</td>\n",
       "      <td>2</td>\n",
       "      <td>2</td>\n",
       "      <td>45.75</td>\n",
       "      <td>True</td>\n",
       "      <td>False</td>\n",
       "      <td>False</td>\n",
       "    </tr>\n",
       "    <tr>\n",
       "      <th>10</th>\n",
       "      <td>920</td>\n",
       "      <td>14</td>\n",
       "      <td>2</td>\n",
       "      <td>3</td>\n",
       "      <td>44.29</td>\n",
       "      <td>True</td>\n",
       "      <td>False</td>\n",
       "      <td>False</td>\n",
       "    </tr>\n",
       "    <tr>\n",
       "      <th>10</th>\n",
       "      <td>920</td>\n",
       "      <td>14</td>\n",
       "      <td>2</td>\n",
       "      <td>4</td>\n",
       "      <td>49.41</td>\n",
       "      <td>True</td>\n",
       "      <td>False</td>\n",
       "      <td>False</td>\n",
       "    </tr>\n",
       "  </tbody>\n",
       "</table>\n",
       "<p>548 rows × 8 columns</p>\n",
       "</div>"
      ],
      "text/plain": [
       "          locationid  ageofstore promotion  week  salesinthousands  \\\n",
       "MarketID                                                             \n",
       "1                  1           4         3     1             33.73   \n",
       "1                  1           4         3     2             35.67   \n",
       "1                  1           4         3     3             29.03   \n",
       "1                  1           4         3     4             39.25   \n",
       "1                  2           5         2     1             27.81   \n",
       "...              ...         ...       ...   ...               ...   \n",
       "10               919           2         1     4             64.34   \n",
       "10               920          14         2     1             50.20   \n",
       "10               920          14         2     2             45.75   \n",
       "10               920          14         2     3             44.29   \n",
       "10               920          14         2     4             49.41   \n",
       "\n",
       "          marketsize_large  marketsize_medium  marketsize_small  \n",
       "MarketID                                                         \n",
       "1                    False               True             False  \n",
       "1                    False               True             False  \n",
       "1                    False               True             False  \n",
       "1                    False               True             False  \n",
       "1                    False               True             False  \n",
       "...                    ...                ...               ...  \n",
       "10                    True              False             False  \n",
       "10                    True              False             False  \n",
       "10                    True              False             False  \n",
       "10                    True              False             False  \n",
       "10                    True              False             False  \n",
       "\n",
       "[548 rows x 8 columns]"
      ]
     },
     "execution_count": 47,
     "metadata": {},
     "output_type": "execute_result"
    }
   ],
   "source": [
    "marketing_campaign_df = pd.get_dummies(marketing_campaign_df, columns=['marketsize'], drop_first=False)\n",
    "marketing_campaign_df"
   ]
  },
  {
   "cell_type": "code",
   "execution_count": 48,
   "metadata": {},
   "outputs": [
    {
     "name": "stdout",
     "output_type": "stream",
     "text": [
      "                            OLS Regression Results                            \n",
      "==============================================================================\n",
      "Dep. Variable:       salesinthousands   R-squared:                       0.582\n",
      "Model:                            OLS   Adj. R-squared:                  0.578\n",
      "Method:                 Least Squares   F-statistic:                     150.9\n",
      "Date:                Tue, 11 Mar 2025   Prob (F-statistic):          3.35e-100\n",
      "Time:                        17:53:44   Log-Likelihood:                -2082.7\n",
      "No. Observations:                 548   AIC:                             4177.\n",
      "Df Residuals:                     542   BIC:                             4203.\n",
      "Df Model:                           5                                         \n",
      "Covariance Type:            nonrobust                                         \n",
      "=============================================================================================\n",
      "                                coef    std err          t      P>|t|      [0.025      0.975]\n",
      "---------------------------------------------------------------------------------------------\n",
      "Intercept                    45.3337      0.816     55.548      0.000      43.731      46.937\n",
      "promotion[T.2]              -10.7521      1.149     -9.355      0.000     -13.010      -8.494\n",
      "promotion[T.3]               -1.0739      1.152     -0.932      0.352      -3.337       1.189\n",
      "marketsize_medium[T.True]     2.0470      0.659      3.108      0.002       0.753       3.341\n",
      "marketsize_large[T.True]     28.6797      0.757     37.879      0.000      27.192      30.167\n",
      "marketsize_small[T.True]     14.6070      1.135     12.867      0.000      12.377      16.837\n",
      "ageofstore                    0.0709      0.071      0.995      0.320      -0.069       0.211\n",
      "==============================================================================\n",
      "Omnibus:                       15.194   Durbin-Watson:                   0.547\n",
      "Prob(Omnibus):                  0.001   Jarque-Bera (JB):                8.088\n",
      "Skew:                          -0.067   Prob(JB):                       0.0175\n",
      "Kurtosis:                       2.420   Cond. No.                     2.05e+16\n",
      "==============================================================================\n",
      "\n",
      "Notes:\n",
      "[1] Standard Errors assume that the covariance matrix of the errors is correctly specified.\n",
      "[2] The smallest eigenvalue is 1.53e-28. This might indicate that there are\n",
      "strong multicollinearity problems or that the design matrix is singular.\n"
     ]
    }
   ],
   "source": [
    "import statsmodels.formula.api as smf\n",
    "\n",
    "# Regression Model: Sales ~ Promotion + AgeOfStore + MarketSize dummies\n",
    "model = smf.ols(\"salesinthousands ~ promotion + ageofstore + marketsize_medium + marketsize_large+marketsize_small\", \n",
    "                data=marketing_campaign_df).fit()\n",
    "\n",
    "# Print summary\n",
    "print(model.summary())\n"
   ]
  },
  {
   "cell_type": "code",
   "execution_count": null,
   "metadata": {},
   "outputs": [],
   "source": []
  },
  {
   "cell_type": "code",
   "execution_count": null,
   "metadata": {},
   "outputs": [],
   "source": []
  },
  {
   "cell_type": "code",
   "execution_count": null,
   "metadata": {},
   "outputs": [],
   "source": []
  }
 ],
 "metadata": {
  "kernelspec": {
   "display_name": "Python 3",
   "language": "python",
   "name": "python3"
  },
  "language_info": {
   "codemirror_mode": {
    "name": "ipython",
    "version": 3
   },
   "file_extension": ".py",
   "mimetype": "text/x-python",
   "name": "python",
   "nbconvert_exporter": "python",
   "pygments_lexer": "ipython3",
   "version": "3.12.1"
  }
 },
 "nbformat": 4,
 "nbformat_minor": 2
}
